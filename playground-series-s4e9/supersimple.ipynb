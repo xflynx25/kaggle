{
 "cells": [
  {
   "cell_type": "code",
   "execution_count": 1,
   "metadata": {},
   "outputs": [],
   "source": [
    "# where is it ?\n",
    "\n",
    "import numpy as np \n",
    "import pandas as pd \n",
    "import os\n",
    "import matplotlib.pyplot as plt\n",
    "import pandas as pd\n",
    "import numpy as np\n",
    "from sklearn.model_selection import RepeatedKFold, cross_val_score\n",
    "from sklearn.pipeline import make_pipeline\n",
    "from sklearn.preprocessing import TargetEncoder, StandardScaler\n",
    "from sklearn.linear_model import Lasso, Ridge\n",
    "from sklearn.ensemble import RandomForestRegressor, GradientBoostingRegressor\n",
    "import xgboost as xgb\n",
    "from catboost import CatBoostRegressor"
   ]
  },
  {
   "cell_type": "code",
   "execution_count": 2,
   "metadata": {},
   "outputs": [],
   "source": [
    "train_df_full = pd.read_csv('train.csv')#'/kaggle/input/playground-series-s4e9/train.csv')\n",
    "test_df_full = pd.read_csv('test.csv')#'/kaggle/input/playground-series-s4e9/test.csv')"
   ]
  },
  {
   "cell_type": "code",
   "execution_count": 4,
   "metadata": {},
   "outputs": [
    {
     "name": "stdout",
     "output_type": "stream",
     "text": [
      "(47133, 13)\n",
      "CV RMSE score: 84829.24372 ± 12046.91113\n"
     ]
    }
   ],
   "source": [
    "\n",
    "# preparing data, set tuning params\n",
    "SEED = 2\n",
    "DEV_FRACTION = 1\n",
    "df_dev = train_df_full.sample(frac=DEV_FRACTION, random_state=SEED)\n",
    "N = 5\n",
    "test_frac = 0.2\n",
    "\n",
    "print(df_dev.shape)\n",
    "\n",
    "# Separate features (X) and target (y)\n",
    "X = df_dev.drop(columns='price')\n",
    "y = df_dev['price']\n",
    "\n",
    "X['mileage'] = X.pop('milage')//100 # binning mileage\n",
    "\n",
    "kfold = RepeatedKFold(n_splits=5, n_repeats=1, random_state=SEED)\n",
    "scoring='neg_root_mean_squared_error'\n",
    "\n",
    "model = make_pipeline(\n",
    "    TargetEncoder(random_state=0, target_type='continuous').set_output(transform='pandas'),\n",
    "    StandardScaler().set_output(transform='pandas'),\n",
    "    RandomForestRegressor()\n",
    ")\n",
    "\n",
    "scores = -cross_val_score(model, X, y, scoring=scoring, cv=kfold, n_jobs=1)\n",
    "\n",
    "print(F'CV RMSE score: {np.mean(scores):.5f} ± {np.std(scores):.5f}')"
   ]
  },
  {
   "cell_type": "markdown",
   "metadata": {},
   "source": [
    "# producing the output"
   ]
  },
  {
   "cell_type": "code",
   "execution_count": 6,
   "metadata": {},
   "outputs": [],
   "source": [
    "model = make_pipeline(\n",
    "    TargetEncoder(random_state=0, target_type='continuous').set_output(transform='pandas'),\n",
    "    StandardScaler().set_output(transform='pandas'),\n",
    "    RandomForestRegressor()\n",
    ")\n",
    "\n",
    "\n",
    "# Step 2: Separate features (X) and target (y) from the full training set\n",
    "X_train = train_df_full.drop(columns='price')\n",
    "y_train = train_df_full['price']\n",
    "\n",
    "\n",
    "# Step 3: Fit the model on the full training data\n",
    "model.fit(X_train, y_train)\n",
    "\n",
    "# Step 4: Prepare test data and make predictions\n",
    "X_test = test_df_full#.drop(columns='id')  # Assuming 'id' column is in test data\n",
    "predictions = model.predict(X_test)\n",
    "\n",
    "# Step 5: Create a submission DataFrame\n",
    "submission = pd.DataFrame({\n",
    "    'id': test_df_full['id'],  # Ensure the 'id' from the test set is preserved\n",
    "    'price': predictions       # The predicted prices\n",
    "})\n",
    "\n",
    "# Step 6: Save the submission to a CSV file\n",
    "submission.to_csv('submission1_TargetRFScalePipeline.csv', index=False)  # Save as CSV"
   ]
  },
  {
   "cell_type": "code",
   "execution_count": null,
   "metadata": {},
   "outputs": [],
   "source": []
  }
 ],
 "metadata": {
  "kernelspec": {
   "display_name": "kaggle",
   "language": "python",
   "name": "python3"
  },
  "language_info": {
   "codemirror_mode": {
    "name": "ipython",
    "version": 3
   },
   "file_extension": ".py",
   "mimetype": "text/x-python",
   "name": "python",
   "nbconvert_exporter": "python",
   "pygments_lexer": "ipython3",
   "version": "3.11.9"
  }
 },
 "nbformat": 4,
 "nbformat_minor": 2
}
